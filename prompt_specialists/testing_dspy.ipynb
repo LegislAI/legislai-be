{
 "cells": [
  {
   "cell_type": "code",
   "execution_count": 4,
   "metadata": {},
   "outputs": [],
   "source": [
    "import os\n",
    "from dotenv import load_dotenv\n",
    "load_dotenv()\n",
    "\n",
    "together_key = os.getenv(\"TOGETHER_API_KEY\")"
   ]
  },
  {
   "cell_type": "code",
   "execution_count": 5,
   "metadata": {},
   "outputs": [
    {
     "name": "stderr",
     "output_type": "stream",
     "text": [
      "/home/francisca/.local/lib/python3.12/site-packages/tqdm/auto.py:21: TqdmWarning: IProgress not found. Please update jupyter and ipywidgets. See https://ipywidgets.readthedocs.io/en/stable/user_install.html\n",
      "  from .autonotebook import tqdm as notebook_tqdm\n"
     ]
    }
   ],
   "source": [
    "import dspy\n",
    "lm = dspy.LM('mistralai/Mistral-7B-Instruct-v0.1', api_key=together_key, api_base='together_ai/togethercomputer/mistralai/Mistral-7B-Instruct-v0.1')\n",
    "dspy.configure(lm=lm)"
   ]
  },
  {
   "cell_type": "code",
   "execution_count": 2,
   "metadata": {},
   "outputs": [],
   "source": [
    "## codigo dos direitos do autor\n",
    "import json\n",
    "\n",
    "with open('examples/direitos_autor_test.json', 'r') as file:\n",
    "    data = json.load(file)"
   ]
  },
  {
   "cell_type": "markdown",
   "metadata": {},
   "source": [
    "## LLM Metric"
   ]
  },
  {
   "cell_type": "code",
   "execution_count": 52,
   "metadata": {},
   "outputs": [],
   "source": [
    "\n",
    "metricLM = dspy.LM('google/gemma-2-9b-it', api_key=together_key, api_base=\"together_ai/togethercomputer/\")\n"
   ]
  },
  {
   "cell_type": "code",
   "execution_count": null,
   "metadata": {},
   "outputs": [],
   "source": [
    "from datetime import datetime\n",
    "\n",
    "class EvaluateAnswer(dspy.Signature):\n",
    "    \"\"\"Avalia a qualidade da resposta do sistema a uma certa questão baseado no criterio\"\"\"\n",
    "    \n",
    "    context = dspy.InputField(desc=\"O contexto necessário para responder à questão\")\n",
    "    criterion = dspy.InputField(desc=\"Critério de avaliação\")\n",
    "    question = dspy.InputField(desc=\"A pergunta perguntada ao sistema\")\n",
    "    model_answer = dspy.InputField(desc=\"A resposta do sistema que tens de avaliar\")\n",
    "    rating = dspy.OutputField(desc=\"Resultado entre 1 e 5. Apenas responde o número como um `int`, nada mais!\")\n",
    "\n",
    "class RAGMetricProgram(dspy.Module):\n",
    "    def __init__(self):\n",
    "        self.evaluator = dspy.ChainOfThought(EvaluateAnswer)\n",
    "    \n",
    "    def forward(self, context, question, predicted_answer, trace=None):\n",
    "        init_time = datetime.now()\n",
    "        faithful = \"A resposta é suportada pelo contexto? Responde 'não' se inclui factos significantes não presentes no contexto\"\n",
    "        overall = f\"Por favor avalia quão bem a resposta dada responde à questão baseado no contexto fornecido.\"\n",
    "\n",
    "        with dspy.context(lm=metricLM):\n",
    "            faithful = self.evaluator(context=context, criterion=faithful, question=question, model_answer=predicted_answer)\n",
    "            overall = self.evaluator(context=context, criterion=overall, question=question, model_answer=predicted_answer)\n",
    "\n",
    "        print(f\"Faithful: {faithful.rating}\")\n",
    "        print(f\"Overall: {overall.rating}\")\n",
    "\n",
    "\n",
    "        total = float(faithful.rating)*2 + float(overall.rating)\n",
    "        final_time = datetime.now()\n",
    "\n",
    "        print(f\"Time passed: {final_time-init_time}\\n\")\n",
    "        return total / 5.0"
   ]
  },
  {
   "cell_type": "code",
   "execution_count": 49,
   "metadata": {},
   "outputs": [],
   "source": [
    "test_question = \"Uma tradução é uma obra equiparada à obra originais?\"\n",
    "test_pred = \"Sim, uma tradução é uma transformação de uma obra ainda que esta não seja objecto de protecção\""
   ]
  },
  {
   "cell_type": "code",
   "execution_count": 50,
   "metadata": {},
   "outputs": [],
   "source": [
    "rag_metric = RAGMetricProgram()"
   ]
  },
  {
   "cell_type": "code",
   "execution_count": null,
   "metadata": {},
   "outputs": [],
   "source": [
    "rag_metric(context=\"data\", question=test_question,predicted_answer=test_pred)"
   ]
  },
  {
   "cell_type": "markdown",
   "metadata": {},
   "source": [
    "## RAG"
   ]
  },
  {
   "cell_type": "code",
   "execution_count": null,
   "metadata": {},
   "outputs": [],
   "source": [
    "import pydantic\n",
    "from typing import List\n",
    "\n",
    "class References(pydantic.BaseModel):\n",
    "    article_title : str\n",
    "    url : str\n",
    "    date : str\n",
    "\n",
    "\n",
    "class StructuredAnswer(pydantic.BaseModel):\n",
    "    answer: str\n",
    "    references: List[References]"
   ]
  },
  {
   "cell_type": "code",
   "execution_count": null,
   "metadata": {},
   "outputs": [],
   "source": [
    "class GenerateAnswer(dspy.Signature):\n",
    "    \"\"\"Sendo tu um especialista da legislação portuguesa, responde à questão baseado EXCLUSIVAMENTE no contexto fornecido. Foca-te em fornecer informacões corretas e fundamenta com o contexto\"\"\"\n",
    "    context = dspy.InputField(desc=\"Informação importante para responder à questão\")\n",
    "    question = dspy.InputField()\n",
    "    answer : StructuredAnswer = dspy.OutputField(desc=\"Uma resposta detalhada e a lista de referencias utilizadas para responder à questão (título do artigo, url e data)\")"
   ]
  },
  {
   "cell_type": "code",
   "execution_count": null,
   "metadata": {},
   "outputs": [],
   "source": [
    "class RAG(dspy.Module):\n",
    "    def __init__(self):\n",
    "        super().__init__()\n",
    "    \n",
    "        self.generate_answer = dspy.ChainOfThought(GenerateAnswer)\n",
    "    \n",
    "    def forward(self, question, context):\n",
    "        pred = self.generate_answer(context=context, question=question).answer\n",
    "        return dspy.Prediction(context=context, answer=pred, question=question)"
   ]
  }
 ],
 "metadata": {
  "kernelspec": {
   "display_name": "Python 3",
   "language": "python",
   "name": "python3"
  },
  "language_info": {
   "codemirror_mode": {
    "name": "ipython",
    "version": 3
   },
   "file_extension": ".py",
   "mimetype": "text/x-python",
   "name": "python",
   "nbconvert_exporter": "python",
   "pygments_lexer": "ipython3",
   "version": "3.12.6"
  }
 },
 "nbformat": 4,
 "nbformat_minor": 2
}

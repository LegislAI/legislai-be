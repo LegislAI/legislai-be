{
 "cells": [
  {
   "cell_type": "code",
   "execution_count": null,
   "metadata": {
    "colab": {
     "base_uri": "https://localhost:8080/"
    },
    "collapsed": true,
    "id": "Bdj7KDDFRlIY",
    "outputId": "dfc1b0f5-393f-441e-9c3b-12c6618c53a7"
   },
   "outputs": [],
   "source": [
    "!pip install torch transformers sentence_transformers langchain langchain_together dspy\n",
    "!pip install -U langchain-community"
   ]
  },
  {
   "cell_type": "code",
   "execution_count": null,
   "metadata": {
    "id": "AG7d9xLTRlIa"
   },
   "outputs": [],
   "source": [
    "import os\n",
    "together_key = os.getenv(\"TOGETHER_API_KEY\")"
   ]
  },
  {
   "cell_type": "code",
   "execution_count": null,
   "metadata": {
    "id": "MbS9chHLRlIb"
   },
   "outputs": [],
   "source": [
    "# together_ai/google/gemma-2-9b-it together_ai/meta-llama/Meta-Llama-3.1-8B-Instruct-Turbo\n",
    "import dspy\n",
    "lm = dspy.LM('together_ai/meta-llama/Meta-Llama-3.1-8B-Instruct-Turbo', api_key=together_key, cache = False, max_tokens=1500)\n",
    "dspy.configure(lm=lm)"
   ]
  },
  {
   "cell_type": "code",
   "execution_count": null,
   "metadata": {
    "id": "nsntrmgTRlIb"
   },
   "outputs": [],
   "source": [
    "## codigo dos direitos do autor\n",
    "import json\n",
    "from datetime import datetime\n",
    "with open('codigo_estrada.json', 'r') as file:\n",
    "    context_data = json.load(file)\n",
    "\n",
    "with open('qa_estrada.json', 'r') as file:\n",
    "    qa_json = json.load(file)"
   ]
  },
  {
   "cell_type": "markdown",
   "metadata": {
    "id": "6pdOHbx7RlIb"
   },
   "source": [
    "## LLM Metric"
   ]
  },
  {
   "cell_type": "code",
   "execution_count": null,
   "metadata": {
    "id": "zDtVnCXtRlIc"
   },
   "outputs": [],
   "source": [
    "metricLM = dspy.LM('together_ai/google/gemma-2-9b-it', cache = False, api_key=together_key)\n"
   ]
  },
  {
   "cell_type": "code",
   "execution_count": null,
   "metadata": {
    "id": "ZNdul-SZRlId"
   },
   "outputs": [],
   "source": [
    "class EvaluateAnswer(dspy.Signature):\n",
    "    \"\"\"Avalia a qualidade da resposta do sistema a uma certa questão. Tendo em conta os seguintes fatores:\n",
    "        - A resposta é suportada pelo contexto?\n",
    "        - A resposta responde corretamente à questão?\n",
    "        - A resposta está totalmente com base no contexto?\n",
    "        - Por favor avalia quão bem a resposta dada responde à questão baseado no contexto fornecido.\"\"\"\n",
    "\n",
    "    context = dspy.InputField(desc=\"O contexto necessário para responder à questão\")\n",
    "    question = dspy.InputField(desc=\"A pergunta perguntada ao sistema\")\n",
    "    model_answer = dspy.InputField(desc=\"A resposta do sistema que tens de avaliar\")\n",
    "    rating = dspy.OutputField(desc=\"Resultado entre 1 e 5. Apenas responde o número como um `int`, nada mais!\")\n",
    "\n",
    "def rag_judge(gold, pred, trace=None):\n",
    "  predicted_answer = pred.answer\n",
    "  question = gold.question\n",
    "  context = gold.context\n",
    "  init_time = datetime.now()\n",
    "\n",
    "  with dspy.context(lm=metricLM):\n",
    "      faithful = dspy.ChainOfThought(EvaluateAnswer)(context=context, question=question, model_answer=predicted_answer)\n",
    "\n",
    "  print(f\"Faithful: {faithful.rating}\")\n",
    "\n",
    "  final_time = datetime.now()\n",
    "  print(f\"Time passed: {final_time-init_time}\\n\")\n",
    "  return float(faithful.rating)\n",
    "\n",
    "\n"
   ]
  },
  {
   "cell_type": "code",
   "execution_count": null,
   "metadata": {
    "id": "FROg-_RVRlIe"
   },
   "outputs": [],
   "source": [
    "correct_answers= 0\n",
    "for qa in qa_json:\n",
    "    eval_score = rag_judge(context=context_data, question=qa['question'], predicted_answer=qa['answer'])\n",
    "    correct_score = qa['score']\n",
    "    print(f\"correct: {correct_score}, predict: {eval_score}\\n\")\n",
    "\n",
    "    if correct_score == round(eval_score) :\n",
    "        correct_answers += 1\n",
    "\n",
    "total_questions = len(qa_json)\n",
    "accuracy_percentage = (correct_answers / total_questions) * 100"
   ]
  },
  {
   "cell_type": "code",
   "execution_count": null,
   "metadata": {
    "id": "zTv0qX-8RlIe"
   },
   "outputs": [],
   "source": [
    "accuracy_percentage"
   ]
  },
  {
   "cell_type": "markdown",
   "metadata": {
    "id": "C9PBSB1yRlIf"
   },
   "source": [
    "**Optimizer**"
   ]
  },
  {
   "cell_type": "code",
   "execution_count": null,
   "metadata": {
    "id": "4K-YaMs2RlIf"
   },
   "outputs": [],
   "source": [
    "from dspy.teleprompt import BootstrapFewShot\n",
    "\n",
    "optimizer = BootstrapFewShot(\n",
    "    metric=eval_score,\n",
    "    max_bootstrapped_demos=1,\n",
    "    max_labeled_demos=3,\n",
    "    max_rounds=10,\n",
    ")"
   ]
  },
  {
   "cell_type": "code",
   "execution_count": null,
   "metadata": {
    "id": "DAGfQlFPRlIf"
   },
   "outputs": [],
   "source": [
    "import pandas as pd\n",
    "qa_df = pd.DataFrame(qa_json)"
   ]
  },
  {
   "cell_type": "code",
   "execution_count": null,
   "metadata": {
    "id": "RLTU17j3RlIf"
   },
   "outputs": [],
   "source": [
    "def get_dspy_df(data):\n",
    "    train_df = []\n",
    "    for _, row in data.iterrows():\n",
    "        train_df.append(dspy.Example(context=row['context'], question=row['question'], answer=row['answer'], score=row['score']).with_inputs('question', 'context', 'answer'))\n",
    "    return train_df"
   ]
  },
  {
   "cell_type": "code",
   "execution_count": null,
   "metadata": {
    "id": "YturAel-RlIg"
   },
   "outputs": [],
   "source": [
    "qa_train = get_dspy_df(qa_df)"
   ]
  },
  {
   "cell_type": "code",
   "execution_count": null,
   "metadata": {
    "id": "UTrMl5CnRlIg"
   },
   "outputs": [],
   "source": [
    "cot_compiled = optimizer.compile(RAGMetricProgram(), trainset=qa_train)"
   ]
  },
  {
   "cell_type": "code",
   "execution_count": null,
   "metadata": {
    "id": "tAqrQB-9RlIg"
   },
   "outputs": [],
   "source": [
    "cot_compiled(context=context_data, question=test_q2, answer= test_pred)"
   ]
  },
  {
   "cell_type": "code",
   "execution_count": null,
   "metadata": {
    "id": "4liPzYiaRlIg"
   },
   "outputs": [],
   "source": [
    "cot_compiled.save(\"compiled_cdadc.json\")"
   ]
  },
  {
   "cell_type": "markdown",
   "metadata": {
    "id": "Vt5mVU3ZRlIg"
   },
   "source": [
    "## RAG"
   ]
  },
  {
   "cell_type": "markdown",
   "metadata": {
    "id": "FFDQU7SqQB8I"
   },
   "source": [
    "CoT with Hint"
   ]
  },
  {
   "cell_type": "code",
   "execution_count": null,
   "metadata": {
    "id": "k005ZvbBQEQX"
   },
   "outputs": [],
   "source": [
    "from enum import Enum\n",
    "import re\n",
    "class LegalCode(Enum):\n",
    "    TRABALHO = \"Código do Trabalho e Processo do Trabalho\"\n",
    "    PREDIAL = \"NRAU e Código do Registo Predial\"\n",
    "    CDADC = \"Código dos Direitos de Autor\"\n",
    "    CIRS = \"Código IRS\"\n",
    "    CIMI = \"Código do IMI e Código do IMT\"\n",
    "    CN = \"Código do Notariado\"\n",
    "    ESTRADA = \"Código da Estrada\"\n",
    "    CIRE = \"Codigo da Insolvencia e da Recuperacao de Empresas\"\n",
    "    CCP = \"Codigo Contratos Publicos\"\n",
    "\n",
    "class SpecialistPrompts:\n",
    "    def __init__(self):\n",
    "      self.DICIONARIO = {\n",
    "            LegalCode.ESTRADA: {\n",
    "                \"buzina\": \"avisador\",\n",
    "                \"acidente\": \"sinistro\",\n",
    "                \"sinal\": \"pisca\",\n",
    "                \"velocípedes\": \"bicicletas\",\n",
    "                \"transito\": \"fila\",\n",
    "                \"veículo de transporte coletivo de passageiros\": \"autocarros\",\n",
    "                \"veículo de transporte coletivo de carga\": \"camião\"\n",
    "            }\n",
    "        }\n",
    "      self.INTRODUCTIONS = {\n",
    "            LegalCode.TRABALHO: \"És um especialista em Direito Laboral português. Tens profundo conhecimento do Código do Trabalho e do Processo do Trabalho, bem como da legislação relativa ao emprego em Portugal.\",\n",
    "            LegalCode.PREDIAL: \"És um especialista em legislação de arrendamento e registo predial em Portugal. Dominas o Novo Regime do Arrendamento Urbano (NRAU) e o Código do Registo Predial.\",\n",
    "            LegalCode.CCP: \"És um especialista em contratação pública em Portugal. Tens conhecimento aprofundado do Código dos Contratos Públicos e da legislação aplicável aos contratos celebrados por entidades públicas.\",\n",
    "            LegalCode.CDADC: \"És um especialista em legislação de propriedade intelectual em Portugal. Tens profundo conhecimento do Código dos Direitos de Autor e Direitos Conexos, com foco na proteção e gestão de obras intelectuais.\",\n",
    "            LegalCode.CIRE: \"És um especialista em insolvência e recuperação de empresas em Portugal. Dominas o Código de Insolvência e Recuperação de Empresa e toda a legislação aplicável aos processos de recuperação e falência de empresas.\",\n",
    "            LegalCode.CIRS: \"És um especialista sobre o Codigo do IRS - imposto sobre o Rendimsento das Pessoas Singulares. Tens profundo conhecimento do Código do IRS, incluindo as normas e obrigações relacionadas com esse imposto em Portugal.\",\n",
    "            LegalCode.CIMI: \"És um especialista em impostos sobre o património imobiliário em Portugal. Dominas o Código do IMI (Imposto Municipal sobre Imóveis) e o Código do IMT (Imposto Municipal sobre as Transmissões Onerosas de Imóveis).\",\n",
    "            LegalCode.CN: \"És um especialista em direito notarial em Portugal. Tens profundo conhecimento do Código do Notariado e das normas relativas à autenticação e formalização de atos e documentos legais.\",\n",
    "           # LegalCode.ESTRADA: \"És um especialista em legislação rodoviária em Portugal. Dominas o Código da Estrada e toda a regulamentação relacionada com a segurança, regras de trânsito e legislação para condutores e veículos.\"\n",
    "            LegalCode.ESTRADA: \"És um especialista em legislação rodoviária em Portugal. Aqui tens um dicionário de sinónimos com termos utilizados no Código da Estrada \"\n",
    "        }\n",
    "    def _get_legal_code(self,input_string: str) -> LegalCode:\n",
    "      patterns = {\n",
    "          LegalCode.TRABALHO: r'\\b(trabalho|processo do trabalho)\\b',\n",
    "          LegalCode.PREDIAL: r'\\b(nrau|registo predial|predial)\\b',\n",
    "          LegalCode.CDADC: r'\\b(direitos de autor|cdadc)\\b',\n",
    "          LegalCode.CIRS: r'\\b(cirs|código irs)\\b',\n",
    "          LegalCode.CIMI: r'\\b(cimi|código do imi|imt)\\b',\n",
    "          LegalCode.CN: r'\\b(código do notariado|notariado|cn)\\b',\n",
    "          LegalCode.ESTRADA: r'\\b(código da estrada|estrada)\\b',\n",
    "          LegalCode.CIRE: r'\\b(cire|insolvência|recuperação de empresas)\\b',\n",
    "          LegalCode.CCP: r'\\b(ccp|código contratos públicos)\\b',\n",
    "      }\n",
    "\n",
    "      for code, pattern in patterns.items():\n",
    "          if re.search(pattern, input_string, re.IGNORECASE):\n",
    "              return code\n",
    "      return None\n"
   ]
  },
  {
   "cell_type": "code",
   "execution_count": null,
   "metadata": {
    "id": "gx5KwVLwRlIg"
   },
   "outputs": [],
   "source": [
    "import pydantic\n",
    "from typing import List\n",
    "\n",
    "class References(pydantic.BaseModel):\n",
    "    article_title : str\n",
    "    url : str\n",
    "    date : str\n",
    "\n",
    "class StructuredAnswer(pydantic.BaseModel):\n",
    "    answer: str\n",
    "    references: List[References]"
   ]
  },
  {
   "cell_type": "code",
   "execution_count": null,
   "metadata": {
    "id": "JW8mhWd1RlIg"
   },
   "outputs": [],
   "source": [
    "class GenerateAnswer(dspy.Signature):\n",
    "    \"\"\"Sendo tu um especialista da legislação portuguesa, responde à questão baseado EXCLUSIVAMENTE no contexto fornecido. Foca-te em fornecer informacões corretas e fundamenta com o contexto\"\"\"\n",
    "    context = dspy.InputField(desc=\"Informação importante para responder à questão\")\n",
    "    question = dspy.InputField()\n",
    "    answer : StructuredAnswer = dspy.OutputField(desc=\"Uma resposta detalhada e a lista de referencias utilizadas para responder à questão (título do artigo, url e data)\")"
   ]
  },
  {
   "cell_type": "code",
   "execution_count": null,
   "metadata": {
    "id": "_tam2VuqQxU1"
   },
   "outputs": [],
   "source": [
    "specialist = SpecialistPrompts()"
   ]
  },
  {
   "cell_type": "code",
   "execution_count": null,
   "metadata": {
    "id": "4zFvuSYcRlIg"
   },
   "outputs": [],
   "source": [
    "class RAG(dspy.Module):\n",
    "    def __init__(self):\n",
    "        super().__init__()\n",
    "        # self.generate_answer = dspy.ChainOfThought(GenerateAnswer)\n",
    "        self.generate_answer = dspy.ChainOfThoughtWithHint(GenerateAnswer)\n",
    "    def forward(self, question, context, hint):\n",
    "        init_time = datetime.now()\n",
    "        pred = self.generate_answer(context=context, question=question, hint= hint).answer\n",
    "        res = dspy.Prediction(context=context, answer=pred, question=question)\n",
    "        final_time = datetime.now()\n",
    "\n",
    "        print(f\"Time passed RAG: {final_time-init_time}\\n\")\n",
    "        return res"
   ]
  },
  {
   "cell_type": "markdown",
   "metadata": {
    "id": "gSM31L1ORlIh"
   },
   "source": [
    "testing without optimizer"
   ]
  },
  {
   "cell_type": "code",
   "execution_count": null,
   "metadata": {
    "colab": {
     "base_uri": "https://localhost:8080/"
    },
    "collapsed": true,
    "id": "hxyidMSGRlIh",
    "outputId": "01cc4204-9d7a-4572-97e9-8cbe0553d400"
   },
   "outputs": [
    {
     "name": "stderr",
     "output_type": "stream",
     "text": [
      "<ipython-input-12-ab7336128e2e>:4: LangChainDeprecationWarning: The class `HuggingFaceEmbeddings` was deprecated in LangChain 0.2.2 and will be removed in 1.0. An updated version of the class exists in the :class:`~langchain-huggingface package and should be used instead. To use it run `pip install -U :class:`~langchain-huggingface` and import as `from :class:`~langchain_huggingface import HuggingFaceEmbeddings``.\n",
      "  embedding = SentenceTransformerEmbeddings(model_name=\"all-MiniLM-L6-v2\")\n",
      "/usr/local/lib/python3.10/dist-packages/huggingface_hub/utils/_auth.py:94: UserWarning: \n",
      "The secret `HF_TOKEN` does not exist in your Colab secrets.\n",
      "To authenticate with the Hugging Face Hub, create a token in your settings tab (https://huggingface.co/settings/tokens), set it as secret in your Google Colab and restart your session.\n",
      "You will be able to reuse this secret in all of your notebooks.\n",
      "Please note that authentication is recommended but still optional to access public models or datasets.\n",
      "  warnings.warn(\n"
     ]
    }
   ],
   "source": [
    "import numpy as np\n",
    "from langchain.embeddings import SentenceTransformerEmbeddings\n",
    "\n",
    "embedding = SentenceTransformerEmbeddings(model_name=\"all-MiniLM-L6-v2\")\n",
    "def cosine_similarity(a, b):\n",
    "    return np.dot(a, b) / (np.linalg.norm(a) * np.linalg.norm(b))\n",
    "\n",
    "\n",
    "\n",
    "def text_evaluation(correct_answer, model_answer, trace=None):\n",
    "  correct_answer_embeddings = embedding.embed_query(correct_answer.answer.answer)#.gold_answer)\n",
    "  model_answer_embedding = embedding.embed_query(model_answer)\n",
    "\n",
    "  similarity = cosine_similarity(model_answer_embedding, correct_answer_embeddings)\n",
    "  return similarity\n",
    "\n",
    "\n"
   ]
  },
  {
   "cell_type": "code",
   "execution_count": null,
   "metadata": {
    "id": "Hz706tSQVbeN"
   },
   "outputs": [],
   "source": [
    "def get_dspy_rag(data, contexto):\n",
    "    train_df = []\n",
    "    for row in data['train']:\n",
    "      train_df.append(dspy.Example(context=contexto, question=row['question'], code=row['code'], gold_answer=row['answer']).with_inputs('question', 'context', 'code'))\n",
    "    return train_df"
   ]
  },
  {
   "cell_type": "code",
   "execution_count": null,
   "metadata": {
    "id": "asWLkgwfVtnQ"
   },
   "outputs": [],
   "source": [
    "qa_train = get_dspy_rag(qa_json, context_data)"
   ]
  },
  {
   "cell_type": "code",
   "execution_count": null,
   "metadata": {
    "id": "msbWAgyJVM9g"
   },
   "outputs": [],
   "source": [
    "# from dspy.teleprompt import BootstrapFewShot\n",
    "\n",
    "# optimizer = BootstrapFewShot(\n",
    "#     metric=rag_judge,\n",
    "#     max_bootstrapped_demos=1,\n",
    "#     max_labeled_demos=4,\n",
    "#     max_rounds=10,\n",
    "# )"
   ]
  },
  {
   "cell_type": "code",
   "execution_count": null,
   "metadata": {
    "collapsed": true,
    "id": "CUINv05fVQDo"
   },
   "outputs": [],
   "source": [
    "rag_compiled = optimizer.compile(RAG(), trainset=qa_train)"
   ]
  },
  {
   "cell_type": "code",
   "execution_count": null,
   "metadata": {
    "id": "c_PbSpATvw4m"
   },
   "outputs": [],
   "source": [
    "rag_compiled.save(\"estrada_compiled_hint.json\")"
   ]
  },
  {
   "cell_type": "markdown",
   "metadata": {
    "id": "pUV8K49bXVXc"
   },
   "source": [
    "---------------------------------------------------------------------------------------"
   ]
  },
  {
   "cell_type": "code",
   "execution_count": null,
   "metadata": {
    "colab": {
     "base_uri": "https://localhost:8080/"
    },
    "collapsed": true,
    "id": "aH28tOm_RlIh",
    "outputId": "fdc6a9c5-276f-4f5a-c545-dfd3f1e3cd64"
   },
   "outputs": [
    {
     "name": "stdout",
     "output_type": "stream",
     "text": [
      "Time passed RAG: 0:00:03.183587\n",
      "\n",
      "for the question Quando é que o trânsito pode passar pela esquerda de postes ou ilhéus? LLAMA answers\n",
      " ##answer='O trânsito pode passar pela esquerda de postes ou ilhéus quando se encontrarem no eixo da faixa de rodagem de que procedem os veículos, ou em vias de sentido único ou em faixas de rodagem afetas a um só sentido.' references=[References(article_title='Placas, postes, ilhéus e dispositivos semelhantes', url='https://www.segurancarodoviaria.pt/codigo-da-estrada/titulo-ii-do-transito-de-veiculos-e-animais/capitulo-i-disposic%C3%B5es-comuns/sec%C3%A7%C3%A3o-i-regras-gerais/artigo-16o-placas-postes-ilheus-e-dispositivos-semelhantes/?returnUrl=%2fcodigo-da-estrada%2f%3fshow%3d2110%23a-seccao-2284', date='1985-09-22')]## COS: 0.6164475680237272\n",
      "\n",
      "Time passed RAG: 0:00:02.691888\n",
      "\n",
      "for the question A minha filha, de 6 anos, pode andar de bicicleta no passeio? LLAMA answers\n",
      " ##answer='Sim, a sua filha pode andar de bicicleta no passeio, desde que não ponha em perigo ou perturbe os peões que nelas circulem.' references=[References(article_title='Bermas e passeios', url='https://www.segurancarodoviaria.pt/codigo-da-estrada/titulo-ii-do-transito-de-veiculos-e-animais/capitulo-i-disposic%C3%B5es-comuns/sec%C3%A7%C3%A3o-i-regras-gerais/artigo-17o-bermas-e-passeios/?returnUrl=%2fcodigo-da-estrada%2f%3fshow%3d2111%23a-seccao-2284', date='1985-09-22')]## COS: 0.7709954946195449\n",
      "\n",
      "Time passed RAG: 0:00:02.748802\n",
      "\n",
      "for the question Posso buzinar por qualquer motivo? LLAMA answers\n",
      " ##answer='Não, apenas em caso de perigo iminente, para prevenir um condutor da intenção de o ultrapassar e, bem assim, nas curvas, cruzamentos, entroncamentos e lombas de visibilidade reduzida.' references=[References(article_title='Sinais sonoros', url='https://www.segurancarodoviaria.pt/codigo-da-estrada/titulo-ii-do-transito-de-veiculos-e-animais/capitulo-i-disposic%C3%B5es-comuns/sec%C3%A7%C3%A3o-ii-sinais-dos-condutores/artigo-22o-sinais-sonoros/?returnUrl=%2fcodigo-da-estrada%2f%3fshow%3d8365%23a-seccao-2295', date='1985-09-22')]## COS: 0.715517089609428\n",
      "\n",
      "Time passed RAG: 0:00:04.082317\n",
      "\n",
      "for the question E se a minha buzina não funcionar? LLAMA answers\n",
      " ##answer='Se a sua buzina não funcionar, não há nenhuma sanção específica estabelecida no Código da Estrada. No entanto, se você estiver a utilizar um veículo que não é permitido utilizar sinais sonoros, você pode estar sujeito a uma sanção.' references=[References(article_title='Sinais sonoros', url='https://www.segurancarodoviaria.pt/codigo-da-estrada/titulo-ii-do-transito-de-veiculos-e-animais/capitulo-i-disposic%C3%B5es-comuns/sec%C3%A7%C3%A3o-ii-sinais-dos-condutores/artigo-22o-sinais-sonoros/?returnUrl=%2fcodigo-da-estrada%2f%3fshow%3d8365%23a-seccao-2295', date='1985-09-22'), References(article_title='Sinais luminosos', url='https://www.segurancarodoviaria.pt/codigo-da-estrada/titulo-ii-do-transito-de-veiculos-e-animais/capitulo-i-disposic%C3%B5es-comuns/sec%C3%A7%C3%A3o-ii-sinais-dos-condutores/artigo-23o-sinais-luminosos/?returnUrl=%2fcodigo-da-estrada%2f%3fshow%3d8366%23a-seccao-2295', date='1985-09-22')]## COS: 0.5268834665212053\n",
      "\n",
      "Time passed RAG: 0:00:03.281775\n",
      "\n",
      "for the question Por quanto tempo o pisca deve-se manter ligado?  LLAMA answers\n",
      " ##answer='O Código da Estrada não estabelece um tempo específico para o pisca (sinal) estar ligado, mas deve ser mantido enquanto se efetua a manobra e cessar logo que ela esteja concluída.' references=[References(article_title='Sinalização de manobras', url='https://www.segurancarodoviaria.pt/codigo-da-estrada/titulo-ii-do-transito-de-veiculos-e-animais/capitulo-i-disposic%C3%B5es-comuns/sec%C3%A7%C3%A3o-ii-sinais-dos-condutores/artigo-21o-sinalizacao-de-manobras/?returnUrl=%2fcodigo-da-estrada%2f%3fshow%3d8364%23a-seccao-2295', date='1985-09-22')]## COS: 0.6660763320138247\n",
      "\n",
      "Time passed RAG: 0:00:04.502832\n",
      "\n",
      "for the question é preciso cuidados ao entrar numa rotunda? LLAMA answers\n",
      " ##answer='Sim, é preciso cuidados ao entrar numa rotunda, pois o condutor deve adotar o comportamento estabelecido no Artigo 14-A.º do Código da Estrada, que inclui ceder a passagem aos veículos que nela circulam, ocupar a via da direita se sair na primeira via de saída e utilizar a via de trânsito mais conveniente ao seu destino.' references=[References(article_title='Rotundas', url='https://www.segurancarodoviaria.pt/codigo-da-estrada/titulo-ii-do-transito-de-veiculos-e-animais/capitulo-i-disposic%C3%B5es-comuns/sec%C3%A7%C3%A3o-i-regras-gerais/artigo-14o-a-rotundas/?returnUrl=%2fcodigo-da-estrada%2f%3fshow%3d2108%23a-seccao-2284', date='1985-09-22')]## COS: 0.5529733234078812\n",
      "\n",
      "Time passed RAG: 0:00:01.954867\n",
      "\n",
      "for the question As bicicletas podem circular na berma da estrada? LLAMA answers\n",
      " ##answer='Sim, as bicicletas podem circular nas bermas da estrada, desde que não ponham em perigo ou perturbem os peões que nelas circulem.' references=[References(article_title='Bermas e passeios', url='https://www.segurancarodoviaria.pt/codigo-da-estrada/titulo-ii-do-transito-de-veiculos-e-animais/capitulo-i-disposic%C3%B5es-comuns/sec%C3%A7%C3%A3o-i-regras-gerais/artigo-17o-bermas-e-passeios/?returnUrl=%2fcodigo-da-estrada%2f%3fshow%3d2111%23a-seccao-2284', date='1985-09-22')]## COS: 0.7306217633998494\n",
      "\n"
     ]
    }
   ],
   "source": [
    "loaded_rag = RAG()\n",
    "# loaded_rag.load(\"estrada_compiled_ragjudge.json\")\n",
    "\n",
    "cos_sim_final = 0\n",
    "for qa in qa_json['test']:\n",
    "  legal_code = specialist._get_legal_code(qa['code'])\n",
    "  introduction = specialist.INTRODUCTIONS.get(legal_code)\n",
    "  dictionary = specialist.DICIONARIO.get(legal_code)\n",
    "  hint = introduction + str(dictionary)\n",
    "  rag_answer = loaded_rag(context=context_data, question=qa['question'], hint = hint)\n",
    "  cos_sim = text_evaluation(rag_answer, qa['answer'])\n",
    "  print(f\"for the question {qa['question']} LLAMA answers\\n ##{rag_answer.answer}## COS: {cos_sim}\\n\")\n",
    "  cos_sim_final+=cos_sim\n",
    "\n"
   ]
  },
  {
   "cell_type": "code",
   "execution_count": null,
   "metadata": {
    "colab": {
     "base_uri": "https://localhost:8080/"
    },
    "id": "P5PMPB8dS694",
    "outputId": "94e1efd1-7b3f-4679-dd50-534e83ac753f"
   },
   "outputs": [
    {
     "data": {
      "text/plain": [
       "4.579515037595461"
      ]
     },
     "execution_count": 14,
     "metadata": {},
     "output_type": "execute_result"
    }
   ],
   "source": [
    "cos_sim_final"
   ]
  },
  {
   "cell_type": "code",
   "execution_count": null,
   "metadata": {
    "colab": {
     "base_uri": "https://localhost:8080/"
    },
    "collapsed": true,
    "id": "EDNbWPmNTZFH",
    "outputId": "1c26d9eb-5a25-4758-ee85-dcffff5ac9f7"
   },
   "outputs": [
    {
     "name": "stdout",
     "output_type": "stream",
     "text": [
      "\n",
      "\n",
      "\n",
      "\n",
      "\u001b[34m[2024-11-18T09:20:45.145258]\u001b[0m\n",
      "\n",
      "\u001b[31mSystem message:\u001b[0m\n",
      "\n",
      "Your input fields are:\n",
      "1. `context` (str): Informação importante para responder à questão\n",
      "2. `question` (str)\n",
      "\n",
      "Your output fields are:\n",
      "1. `reasoning` (str)\n",
      "2. `answer` (StructuredAnswer): Uma resposta detalhada e a lista de referencias utilizadas para responder à questão (título do artigo, url e data)\n",
      "\n",
      "All interactions will be structured in the following way, with the appropriate values filled in.\n",
      "\n",
      "[[ ## context ## ]]\n",
      "{context}\n",
      "\n",
      "[[ ## question ## ]]\n",
      "{question}\n",
      "\n",
      "[[ ## reasoning ## ]]\n",
      "{reasoning}\n",
      "\n",
      "[[ ## answer ## ]]\n",
      "{answer}        # note: the value you produce must be pareseable according to the following JSON schema: {\"type\": \"object\", \"$defs\": {\"References\": {\"type\": \"object\", \"properties\": {\"article_title\": {\"type\": \"string\", \"title\": \"Article Title\"}, \"date\": {\"type\": \"string\", \"title\": \"Date\"}, \"url\": {\"type\": \"string\", \"title\": \"Url\"}}, \"required\": [\"article_title\", \"url\", \"date\"], \"title\": \"References\"}}, \"properties\": {\"answer\": {\"type\": \"string\", \"title\": \"Answer\"}, \"references\": {\"type\": \"array\", \"items\": {\"$ref\": \"#/$defs/References\"}, \"title\": \"References\"}}, \"required\": [\"answer\", \"references\"], \"title\": \"StructuredAnswer\"}\n",
      "\n",
      "[[ ## completed ## ]]\n",
      "\n",
      "In adhering to this structure, your objective is: \n",
      "        Sendo tu um especialista da legislação portuguesa, responde à questão baseado EXCLUSIVAMENTE no contexto fornecido. Foca-te em fornecer informacões corretas e fundamenta com o contexto\n",
      "\n",
      "\n",
      "\u001b[31mUser message:\u001b[0m\n",
      "\n",
      "[[ ## context ## ]]\n",
      "{\"Código da Estrada - Titulo II - Capítulo I - Secçao I \": [{\"article_number\": \" Artigo 11.º\", \"date\": \"1985-03-14\", \"url\": \"https://www.segurancarodoviaria.pt/codigo-da-estrada/titulo-ii-do-transito-de-veiculos-e-animais/capitulo-i-disposic%C3%B5es-comuns/sec%C3%A7%C3%A3o-i-regras-gerais/artigo-12o-inicio-de-marcha/?returnUrl=%2fcodigo-da-estrada%2f%3fshow%3d2105%23a-seccao-2284\", \"article_name\": \"Condução de veículos e animais\", \"content\": \"1 - Todo o veículo ou animal que circule na via pública deve ter um condutor, salvo as exceções previstas neste Código.\\n2 - Os condutores devem, durante a condução, abster-se da prática de quaisquer atos que sejam suscetíveis de prejudicar o exercício da condução com segurança.\\n3 - O condutor de um veículo não pode pôr em perigo os utilizadores vulneráveis.\\n4 - Quem infringir o disposto nos números anteriores é sancionado com coima de (euro) 60 a (euro) 300.\"}, {\"article_number\": \"Código do Estrada - Artigo 12.º\", \"date\": \" 1985-09-22\", \"url\": \"https://www.segurancarodoviaria.pt/codigo-da-estrada/titulo-ii-do-transito-de-veiculos-e-animais/capitulo-i-disposic%C3%B5es-comuns/sec%C3%A7%C3%A3o-i-regras-gerais/artigo-11o-conducao-de-veiculos-e-animais/?returnUrl=%2fcodigo-da-estrada%2f%3fshow%3d2104%23a-seccao-2284\", \"article_name\": \"Inicio da Marcha\", \"content\": \"1 - Os condutores não podem iniciar ou retomar a marcha sem assinalarem com a necessária antecedência a sua intenção e sem adotarem as precauções necessárias para evitar qualquer acidente.\\n2 - Quem infringir o disposto no número anterior é sancionado com coima de (euro) 60 a (euro) 300.\"}, {\"article_number\": \" Artigo 13.º\", \"date\": \"1991-09-08\", \"url\": \"https://www.segurancarodoviaria.pt/codigo-da-estrada/titulo-ii-do-transito-de-veiculos-e-animais/capitulo-i-disposic%C3%B5es-comuns/sec%C3%A7%C3%A3o-i-regras-gerais/artigo-13o-posicao-de-marcha/?returnUrl=%2fcodigo-da-estrada%2f%3fshow%3d2106%23a-seccao-2284\", \"article_name\": \"Posição de Marcha\", \"content\": \"1 - A posição de marcha dos veículos deve fazer-se pelo lado direito da faixa de rodagem, conservando das bermas ou passeios uma distância suficiente que permita evitar acidentes.\\n2 - Quando necessário, pode ser utilizado o lado esquerdo da faixa de rodagem para ultrapassar ou mudar de direção.\\n3 - Sempre que, no mesmo sentido, existam duas ou mais vias de trânsito, este deve fazer-se pela via mais à direita, podendo, no entanto, utilizar-se outra se não houver lugar naquela e, bem assim, para ultrapassar ou mudar de direção.\\n4 - Quem infringir o disposto nos n.os 1 e 3 é sancionado com coima de (euro) 60 a (euro) 300, salvo o disposto no número seguinte.\\n5 - Quem circular em sentido oposto ao estabelecido é sancionado com coima de (euro) 250 a (euro) 1250.\"}, {\"article_number\": \"Artigo 14.º\", \"date\": \"1985-09-22\", \"url\": \"https://www.segurancarodoviaria.pt/codigo-da-estrada/titulo-ii-do-transito-de-veiculos-e-animais/capitulo-i-disposic%C3%B5es-comuns/sec%C3%A7%C3%A3o-i-regras-gerais/artigo-14o-pluralidade-de-vias-de-transito-dentro-das-localidades/?returnUrl=%2fcodigo-da-estrada%2f%3fshow%3d2107%23a-seccao-2284\", \"article_name\": \"Pluralidade de vias de trânsito dentro das localidades\", \"content\": \"1 - (Revogado.)\\n2 - Dentro das localidades, os condutores devem utilizar a via de trânsito mais conveniente ao seu destino, só lhes sendo permitida a mudança para outra, depois de tomadas as devidas precauções, a fim de mudar de direção, ultrapassar, parar ou estacionar.\\n3 - (Revogado.)\\n4 - Quem infringir o disposto no n.º 2 é sancionado com coima de (euro) 60 a (euro) 300\"}, {\"article_number\": \"Artigo 14-A.º\", \"date\": \"1985-09-22\", \"url\": \"https://www.segurancarodoviaria.pt/codigo-da-estrada/titulo-ii-do-transito-de-veiculos-e-animais/capitulo-i-disposic%C3%B5es-comuns/sec%C3%A7%C3%A3o-i-regras-gerais/artigo-14o-a-rotundas/?returnUrl=%2fcodigo-da-estrada%2f%3fshow%3d2108%23a-seccao-2284\", \"article_name\": \"Rotundas\", \"content\": \"1 - Nas rotundas, o condutor deve adotar o seguinte comportamento:\\na) Entrar na rotunda após ceder a passagem aos veículos que nela circulam, qualquer que seja a via por onde o façam;\\nb) Se pretender sair da rotunda na primeira via de saída, deve ocupar a via da direita;\\nc) Se pretender sair da rotunda por qualquer das outras vias de saída, só deve ocupar a via de trânsito mais à direita após passar a via de saída imediatamente anterior àquela por onde pretende sair, aproximando-se progressivamente desta e mudando de via depois de tomadas as devidas precauções;\\nd) Sem prejuízo do disposto nas alíneas anteriores, os condutores devem utilizar a via de trânsito mais conveniente ao seu destino.\\n2 - Os condutores de veículos de tração animal ou de animais, de velocípedes e de automóveis pesados, podem ocupar a via de trânsito mais à direita, sem prejuízo do dever de facultar a saída aos condutores que circulem nos termos da alínea c) do n.º 1.\\n3 - Quem infringir o disposto nas alíneas b), c) e d) do n.º 1 e no n.º 2 é sancionado com coima de (euro) 60 a (euro) 300.\"}, {\"article_number\": \"Artigo 15.º\", \"date\": \"1985-09-22\", \"url\": \"https://www.segurancarodoviaria.pt/codigo-da-estrada/titulo-ii-do-transito-de-veiculos-e-animais/capitulo-i-disposic%C3%B5es-comuns/sec%C3%A7%C3%A3o-i-regras-gerais/artigo-15o-transito-em-filas-paralelas/?returnUrl=%2fcodigo-da-estrada%2f%3fshow%3d2109%23a-seccao-2284\", \"article_name\": \"Trânsito em filas paralelas\", \"content\": \"1 - Sempre que, existindo mais de uma via de trânsito no mesmo sentido, os veículos, devido à intensidade da circulação, ocupem toda a largura da faixa de rodagem destinada a esse sentido, estando a velocidade de cada um dependente da marcha dos que o precedem, os condutores não podem sair da respetiva fila para outra mais à direita, salvo para mudar de direção, parar ou estacionar.\\n2 - Quem infringir o disposto no número anterior é sancionado com coima de (euro) 120 a (euro) 600.\"}, {\"article_number\": \"Artigo 16.º\", \"date\": \"1985-09-22\", \"url\": \"https://www.segurancarodoviaria.pt/codigo-da-estrada/titulo-ii-do-transito-de-veiculos-e-animais/capitulo-i-disposic%C3%B5es-comuns/sec%C3%A7%C3%A3o-i-regras-gerais/artigo-16o-placas-postes-ilheus-e-dispositivos-semelhantes/?returnUrl=%2fcodigo-da-estrada%2f%3fshow%3d2110%23a-seccao-2284\", \"article_name\": \"Placas, postes, ilhéus e dispositivos semelhantes\", \"content\": \"1 - Nos cruzamentos, entroncamentos e rotundas o trânsito faz-se por forma a dar a esquerda à parte central dos mesmos ou às placas, postes, ilhéus direcionais ou dispositivos semelhantes existentes, desde que se encontrem no eixo da faixa de rodagem de que procedem os veículos.\\n2 - Quando na faixa de rodagem exista algum dos dispositivos referidos no n.º 1, o trânsito, sem prejuízo do disposto nos artigos 13.º e 14.º, faz-se por forma a dar-lhes a esquerda, salvo se se encontrarem numa via de sentido único ou na parte da faixa de rodagem afeta a um só sentido, casos em que o trânsito se pode fazer pela esquerda ou pela direita, conforme for mais conveniente.\\n3 - Quem infringir o disposto nos números anteriores é sancionado com coima de (euro) 60 a (euro) 300.\"}, {\"article_number\": \"Artigo 17.º\", \"date\": \"1985-09-22\", \"url\": \"https://www.segurancarodoviaria.pt/codigo-da-estrada/titulo-ii-do-transito-de-veiculos-e-animais/capitulo-i-disposic%C3%B5es-comuns/sec%C3%A7%C3%A3o-i-regras-gerais/artigo-17o-bermas-e-passeios/?returnUrl=%2fcodigo-da-estrada%2f%3fshow%3d2111%23a-seccao-2284\", \"article_name\": \"Bermas e passeios\", \"content\": \"1 - Os veículos só podem circular nas bermas ou nos passeios desde que o acesso aos prédios o exija, salvo as exceções previstas em regulamento local.\\n2 - Sem prejuízo do disposto no número anterior, os velocípedes podem circular nas bermas fora das situações previstas, desde que não ponham em perigo ou perturbem os peões que nelas circulem.\\n3 - Os velocípedes conduzidos por crianças até 10 anos podem circular nos passeios, desde que não ponham em perigo ou perturbem os peões.\\n4 - Quem infringir o disposto no n.º 1 é sancionado com coima de (euro) 60 a (euro) 300.\"}, {\"article_number\": \"Artigo 18.º\", \"date\": \"1985-09-22\", \"url\": \"https://www.segurancarodoviaria.pt/codigo-da-estrada/titulo-ii-do-transito-de-veiculos-e-animais/capitulo-i-disposic%C3%B5es-comuns/sec%C3%A7%C3%A3o-i-regras-gerais/artigo-18o-distancia-entre-veiculos/?returnUrl=%2fcodigo-da-estrada%2f%3fshow%3d2112%23a-seccao-2284\", \"article_name\": \"Distância entre veículos\", \"content\": \"1 - O condutor de um veículo em marcha deve manter entre o seu veículo e o que o precede a distância suficiente para evitar acidentes em caso de súbita paragem ou diminuição de velocidade deste, tendo em especial consideração os utilizadores vulneráveis.\\n2 - O condutor de um veículo em marcha deve manter distância lateral suficiente para evitar acidentes entre o seu veículo e os veículos que transitam na mesma faixa de rodagem, no mesmo sentido ou em sentido oposto.\\n3 - O condutor de um veículo motorizado deve manter entre o seu veículo e um velocípede que transite na mesma faixa de rodagem uma distância lateral de pelo menos 1,5 m, para evitar acidentes.\\n4 - Quem infringir o disposto nos números anteriores é sancionado com coima de (euro) 60 a (euro) 300.\"}, {\"article_number\": \"Artigo 19.º\", \"date\": \"1985-09-22\", \"url\": \"https://www.segurancarodoviaria.pt/codigo-da-estrada/titulo-ii-do-transito-de-veiculos-e-animais/capitulo-i-disposic%C3%B5es-comuns/sec%C3%A7%C3%A3o-i-regras-gerais/artigo-19o-visibilidade-reduzida-ou-insuficiente/?returnUrl=%2fcodigo-da-estrada%2f%3fshow%3d2113%23a-seccao-2284\", \"article_name\": \"Visibilidade reduzida ou insuficiente\", \"content\": \"Para os efeitos deste Código e legislação complementar, considera-se que a visibilidade é reduzida ou insuficiente sempre que o condutor não possa avistar a faixa de rodagem em toda a sua largura numa extensão de, pelo menos, 50 m.\"}, {\"article_number\": \"Artigo 20.º\", \"date\": \"1985-09-22\", \"url\": \"https://www.segurancarodoviaria.pt/codigo-da-estrada/titulo-ii-do-transito-de-veiculos-e-animais/capitulo-i-disposic%C3%B5es-comuns/sec%C3%A7%C3%A3o-i-regras-gerais/artigo-20o-veiculos-de-transporte-coletivo-de-passageiros/?returnUrl=%2fcodigo-da-estrada%2f%3fshow%3d2114%23a-seccao-2284\", \"article_name\": \"Veículos de transporte coletivo de passageiros\", \"content\": \"1 - Nas localidades, os condutores devem abrandar a sua marcha e, se necessário, parar, sempre que os veículos de transporte coletivo de passageiros retomem a marcha à saída dos locais de paragem.\\n2 - Os condutores de veículos de transporte coletivo de passageiros não podem, no entanto, retomar a marcha sem assinalarem a sua intenção imediatamente antes de a retomarem e sem adotarem as precauções necessárias para evitar qualquer acidente.\\n3 - Quem infringir o disposto nos números anteriores é sancionado com coima de (euro) 60 a (euro) 300.\"}], \"Código da Estrada - Titulo II - Capítulo II - Secção II \": [{\"article_number\": \"Artigo 21.º\", \"date\": \"1985-09-22\", \"url\": \"https://www.segurancarodoviaria.pt/codigo-da-estrada/titulo-ii-do-transito-de-veiculos-e-animais/capitulo-i-disposic%C3%B5es-comuns/sec%C3%A7%C3%A3o-ii-sinais-dos-condutores/artigo-21o-sinalizacao-de-manobras/?returnUrl=%2fcodigo-da-estrada%2f%3fshow%3d8364%23a-seccao-2295\", \"article_name\": \"Sinalização de manobras\", \"content\": \"1 - Quando o condutor pretender reduzir a velocidade, parar, estacionar, mudar de direção ou de via de trânsito, iniciar uma ultrapassagem ou inverter o sentido de marcha, deve assinalar com a necessária antecedência a sua intenção.\\n2 - O sinal deve manter-se enquanto se efetua a manobra e cessar logo que ela esteja concluída.\\n3 - Quem infringir o disposto nos números anteriores é sancionado com coima de (euro) 60 a (euro) 300.\"}, {\"article_number\": \"Artigo 22.º\", \"date\": \"1985-09-22\", \"url\": \"https://www.segurancarodoviaria.pt/codigo-da-estrada/titulo-ii-do-transito-de-veiculos-e-animais/capitulo-i-disposic%C3%B5es-comuns/sec%C3%A7%C3%A3o-ii-sinais-dos-condutores/artigo-22o-sinais-sonoros/?returnUrl=%2fcodigo-da-estrada%2f%3fshow%3d8365%23a-seccao-2295\", \"article_name\": \"Sinais sonores\", \"content\": \"1 - Os sinais sonoros devem ser breves.\\n2 - Só é permitida a utilização de sinais sonoros:\\na) Em caso de perigo iminente;\\nb) Fora das localidades, para prevenir um condutor da intenção de o ultrapassar e, bem assim, nas curvas, cruzamentos, entroncamentos e lombas de visibilidade reduzida.\\n3 - Excetuam-se do disposto nos números anteriores os sinais de veículos de polícia ou que transitem em prestação de socorro ou de serviço urgente de interesse público.\\n4 - As características dos dispositivos emissores dos sinais sonoros são fixadas em regulamento.\\n5 - Nos veículos de polícia e nos veículos afetos à prestação de socorro ou de serviço urgente de interesse público, bem como nos veículos utilizados na formação específica dos respetivos condutores, podem ser utilizados avisadores sonoros especiais, cujas características e condições de utilização são fixadas em regulamento.\\n6 - Não é permitida em quaisquer outros veículos a instalação ou utilização dos avisadores referidos no número anterior nem a emissão de sinais sonoros que se possam confundir com os emitidos por aqueles dispositivos.\\n7 - Quem infringir o disposto nos n.os 1 e 2 é sancionado com coima de (euro) 60 a (euro) 300.\\n8 - Quem infringir o disposto no n.º 6 é sancionado com coima de (euro) 500 a (euro) 2500 e com perda dos objetos, devendo o agente de fiscalização proceder à sua imediata remoção e apreensão ou, não sendo ela possível, apreender o documento de identificação do veículo até à efetiva remoção e apreensão daqueles objetos, sendo, neste caso, aplicável, com as necessárias adaptações, o disposto no n.º 5 do artigo 161.º.\"}, {\"article_number\": \"Artigo 23.º\", \"date\": \"1985-09-22\", \"url\": \"https://www.segurancarodoviaria.pt/codigo-da-estrada/titulo-ii-do-transito-de-veiculos-e-animais/capitulo-i-disposic%C3%B5es-comuns/sec%C3%A7%C3%A3o-ii-sinais-dos-condutores/artigo-23o-sinais-luminosos/?returnUrl=%2fcodigo-da-estrada%2f%3fshow%3d8366%23a-seccao-2295\", \"article_name\": \"Sinais sonores\", \"content\": \"1 - Quando os veículos transitem fora das localidades com as luzes acesas por insuficiência de visibilidade, os sinais sonoros podem ser substituídos por sinais luminosos, através da utilização alternada dos máximos com os médios, mas sempre sem provocar encandeamento.\\n2 - Dentro das localidades, durante a noite, é obrigatória a substituição dos sinais sonoros pelos sinais luminosos utilizados nas condições previstas no número anterior.\\n3 - Nos veículos de polícia e nos veículos afetos à prestação de socorro ou de serviço urgente de interesse público, bem como nos veículos utilizados na formação específica dos respetivos condutores, podem ser utilizados avisadores luminosos especiais, cujas características e condições de utilização são fixadas em regulamento.\\n4 - Os veículos a motor que, em razão do serviço a que se destinam, devam parar na via pública ou deslocar-se em marcha lenta, incluindo os tratores e máquinas agrícolas ou florestais e as máquinas industriais, devem estar equipados com avisadores luminosos especiais, cujas características e condições de utilização são fixadas em regulamento, devendo os seus condutores deles fazer uso.\\n5 - Não é permitida:\\na) A instalação ou utilização de avisadores luminosos especiais em quaisquer outros veículos para além dos referidos nos números anteriores;\\nb) A utilização dos avisadores luminosos especiais em situações em que não haja necessidade.\\n6 - Quem infringir o disposto nos n.os 2 e 4 e na alínea b) do número anterior é sancionado com coima de (euro) 60 a (euro) 300.\\n7 - Quem infringir o disposto na alínea a) do n.º 5 é sancionado com coima de (euro) 500 a (euro) 2500 e com perda dos objetos, devendo o agente de fiscalização proceder à sua imediata remoção e apreensão ou, não sendo ela possível, apreender o documento de identificação do veículo até à efetiva remoção e apreensão daqueles objetos, sendo, neste caso, aplicável, com as necessárias adaptações, o disposto no n.º 5 do artigo 161.º .\\n8 - O não funcionamento ou funcionamento defeituoso do avisador luminoso especial é equiparado à sua falta.\"}]}\n",
      "\n",
      "[[ ## question ## ]]\n",
      "é preciso cuidados ao entrar numa rotunda?\n",
      "\t\t(secret hint: És um especialista em legislação rodoviária em Portugal. Aqui tens um dicionário de sinónimos com termos utilizados no Código da Estrada {'buzina': 'avisador', 'acidente': 'sinistro', 'sinal': 'pisca', 'velocípedes': 'bicicletas', 'transito': 'fila', 'veículo de transporte coletivo de passageiros': 'autocarros', 'veículo de transporte coletivo de carga': 'camião'})\n",
      "\n",
      "Respond with the corresponding output fields, starting with the field `[[ ## reasoning ## ]]`, then `[[ ## answer ## ]]` (must be formatted as a valid Python StructuredAnswer), and then ending with the marker for `[[ ## completed ## ]]`.\n",
      "\n",
      "\n",
      "\u001b[31mResponse:\u001b[0m\n",
      "\n",
      "\u001b[32m[[ ## reasoning ## ]]\n",
      "Para responder à questão, é importante analisar as regras estabelecidas no Código da Estrada relacionadas com a entrada em rotundas. De acordo com o Artigo 14-A.º, o condutor deve adotar o seguinte comportamento ao entrar em uma rotunda:\n",
      "\n",
      "- Entrar na rotunda após ceder a passagem aos veículos que nela circulam, qualquer que seja a via por onde façam;\n",
      "- Se pretender sair da rotunda na primeira via de saída, deve ocupar a via da direita;\n",
      "- Se pretender sair da rotunda por qualquer das outras vias de saída, só deve ocupar a via de trânsito mais à direita após passar a via de saída imediatamente anterior àquela por onde pretende sair, aproximando-se progressivamente desta e mudando de via depois de tomadas as devidas precauções;\n",
      "- Sem prejuízo do disposto nas alíneas anteriores, os condutores devem utilizar a via de trânsito mais conveniente ao seu destino.\n",
      "\n",
      "Além disso, é importante lembrar que os condutores de veículos de tração animal ou de animais, de velocípedes e de automóveis pesados podem ocupar a via de trânsito mais à direita, sem prejuízo do dever de facultar a saída aos condutores que circulem nos termos da alínea c) do n.º 1.\n",
      "\n",
      "Portanto, ao entrar em uma rotunda, é fundamental que o condutor siga as regras estabelecidas e adote as precauções necessárias para evitar acidentes.\n",
      "\n",
      "[[ ## answer ## ]]\n",
      "{\n",
      "  \"answer\": \"Sim, é preciso cuidados ao entrar numa rotunda, pois o condutor deve adotar o comportamento estabelecido no Artigo 14-A.º do Código da Estrada, que inclui ceder a passagem aos veículos que nela circulam, ocupar a via da direita se sair na primeira via de saída e utilizar a via de trânsito mais conveniente ao seu destino.\",\n",
      "  \"references\": [\n",
      "    {\n",
      "      \"article_title\": \"Rotundas\",\n",
      "      \"date\": \"1985-09-22\",\n",
      "      \"url\": \"https://www.segurancarodoviaria.pt/codigo-da-estrada/titulo-ii-do-transito-de-veiculos-e-animais/capitulo-i-disposic%C3%B5es-comuns/sec%C3%A7%C3%A3o-i-regras-gerais/artigo-14o-a-rotundas/?returnUrl=%2fcodigo-da-estrada%2f%3fshow%3d2108%23a-seccao-2284\"\n",
      "    }\n",
      "  ]\n",
      "}\n",
      "\n",
      "[[ ## completed ## ]]\u001b[0m\n",
      "\n",
      "\n",
      "\n",
      "\n",
      "\n",
      "\u001b[34m[2024-11-18T09:20:47.116576]\u001b[0m\n",
      "\n",
      "\u001b[31mSystem message:\u001b[0m\n",
      "\n",
      "Your input fields are:\n",
      "1. `context` (str): Informação importante para responder à questão\n",
      "2. `question` (str)\n",
      "\n",
      "Your output fields are:\n",
      "1. `reasoning` (str)\n",
      "2. `answer` (StructuredAnswer): Uma resposta detalhada e a lista de referencias utilizadas para responder à questão (título do artigo, url e data)\n",
      "\n",
      "All interactions will be structured in the following way, with the appropriate values filled in.\n",
      "\n",
      "[[ ## context ## ]]\n",
      "{context}\n",
      "\n",
      "[[ ## question ## ]]\n",
      "{question}\n",
      "\n",
      "[[ ## reasoning ## ]]\n",
      "{reasoning}\n",
      "\n",
      "[[ ## answer ## ]]\n",
      "{answer}        # note: the value you produce must be pareseable according to the following JSON schema: {\"type\": \"object\", \"$defs\": {\"References\": {\"type\": \"object\", \"properties\": {\"article_title\": {\"type\": \"string\", \"title\": \"Article Title\"}, \"date\": {\"type\": \"string\", \"title\": \"Date\"}, \"url\": {\"type\": \"string\", \"title\": \"Url\"}}, \"required\": [\"article_title\", \"url\", \"date\"], \"title\": \"References\"}}, \"properties\": {\"answer\": {\"type\": \"string\", \"title\": \"Answer\"}, \"references\": {\"type\": \"array\", \"items\": {\"$ref\": \"#/$defs/References\"}, \"title\": \"References\"}}, \"required\": [\"answer\", \"references\"], \"title\": \"StructuredAnswer\"}\n",
      "\n",
      "[[ ## completed ## ]]\n",
      "\n",
      "In adhering to this structure, your objective is: \n",
      "        Sendo tu um especialista da legislação portuguesa, responde à questão baseado EXCLUSIVAMENTE no contexto fornecido. Foca-te em fornecer informacões corretas e fundamenta com o contexto\n",
      "\n",
      "\n",
      "\u001b[31mUser message:\u001b[0m\n",
      "\n",
      "[[ ## context ## ]]\n",
      "{\"Código da Estrada - Titulo II - Capítulo I - Secçao I \": [{\"article_number\": \" Artigo 11.º\", \"date\": \"1985-03-14\", \"url\": \"https://www.segurancarodoviaria.pt/codigo-da-estrada/titulo-ii-do-transito-de-veiculos-e-animais/capitulo-i-disposic%C3%B5es-comuns/sec%C3%A7%C3%A3o-i-regras-gerais/artigo-12o-inicio-de-marcha/?returnUrl=%2fcodigo-da-estrada%2f%3fshow%3d2105%23a-seccao-2284\", \"article_name\": \"Condução de veículos e animais\", \"content\": \"1 - Todo o veículo ou animal que circule na via pública deve ter um condutor, salvo as exceções previstas neste Código.\\n2 - Os condutores devem, durante a condução, abster-se da prática de quaisquer atos que sejam suscetíveis de prejudicar o exercício da condução com segurança.\\n3 - O condutor de um veículo não pode pôr em perigo os utilizadores vulneráveis.\\n4 - Quem infringir o disposto nos números anteriores é sancionado com coima de (euro) 60 a (euro) 300.\"}, {\"article_number\": \"Código do Estrada - Artigo 12.º\", \"date\": \" 1985-09-22\", \"url\": \"https://www.segurancarodoviaria.pt/codigo-da-estrada/titulo-ii-do-transito-de-veiculos-e-animais/capitulo-i-disposic%C3%B5es-comuns/sec%C3%A7%C3%A3o-i-regras-gerais/artigo-11o-conducao-de-veiculos-e-animais/?returnUrl=%2fcodigo-da-estrada%2f%3fshow%3d2104%23a-seccao-2284\", \"article_name\": \"Inicio da Marcha\", \"content\": \"1 - Os condutores não podem iniciar ou retomar a marcha sem assinalarem com a necessária antecedência a sua intenção e sem adotarem as precauções necessárias para evitar qualquer acidente.\\n2 - Quem infringir o disposto no número anterior é sancionado com coima de (euro) 60 a (euro) 300.\"}, {\"article_number\": \" Artigo 13.º\", \"date\": \"1991-09-08\", \"url\": \"https://www.segurancarodoviaria.pt/codigo-da-estrada/titulo-ii-do-transito-de-veiculos-e-animais/capitulo-i-disposic%C3%B5es-comuns/sec%C3%A7%C3%A3o-i-regras-gerais/artigo-13o-posicao-de-marcha/?returnUrl=%2fcodigo-da-estrada%2f%3fshow%3d2106%23a-seccao-2284\", \"article_name\": \"Posição de Marcha\", \"content\": \"1 - A posição de marcha dos veículos deve fazer-se pelo lado direito da faixa de rodagem, conservando das bermas ou passeios uma distância suficiente que permita evitar acidentes.\\n2 - Quando necessário, pode ser utilizado o lado esquerdo da faixa de rodagem para ultrapassar ou mudar de direção.\\n3 - Sempre que, no mesmo sentido, existam duas ou mais vias de trânsito, este deve fazer-se pela via mais à direita, podendo, no entanto, utilizar-se outra se não houver lugar naquela e, bem assim, para ultrapassar ou mudar de direção.\\n4 - Quem infringir o disposto nos n.os 1 e 3 é sancionado com coima de (euro) 60 a (euro) 300, salvo o disposto no número seguinte.\\n5 - Quem circular em sentido oposto ao estabelecido é sancionado com coima de (euro) 250 a (euro) 1250.\"}, {\"article_number\": \"Artigo 14.º\", \"date\": \"1985-09-22\", \"url\": \"https://www.segurancarodoviaria.pt/codigo-da-estrada/titulo-ii-do-transito-de-veiculos-e-animais/capitulo-i-disposic%C3%B5es-comuns/sec%C3%A7%C3%A3o-i-regras-gerais/artigo-14o-pluralidade-de-vias-de-transito-dentro-das-localidades/?returnUrl=%2fcodigo-da-estrada%2f%3fshow%3d2107%23a-seccao-2284\", \"article_name\": \"Pluralidade de vias de trânsito dentro das localidades\", \"content\": \"1 - (Revogado.)\\n2 - Dentro das localidades, os condutores devem utilizar a via de trânsito mais conveniente ao seu destino, só lhes sendo permitida a mudança para outra, depois de tomadas as devidas precauções, a fim de mudar de direção, ultrapassar, parar ou estacionar.\\n3 - (Revogado.)\\n4 - Quem infringir o disposto no n.º 2 é sancionado com coima de (euro) 60 a (euro) 300\"}, {\"article_number\": \"Artigo 14-A.º\", \"date\": \"1985-09-22\", \"url\": \"https://www.segurancarodoviaria.pt/codigo-da-estrada/titulo-ii-do-transito-de-veiculos-e-animais/capitulo-i-disposic%C3%B5es-comuns/sec%C3%A7%C3%A3o-i-regras-gerais/artigo-14o-a-rotundas/?returnUrl=%2fcodigo-da-estrada%2f%3fshow%3d2108%23a-seccao-2284\", \"article_name\": \"Rotundas\", \"content\": \"1 - Nas rotundas, o condutor deve adotar o seguinte comportamento:\\na) Entrar na rotunda após ceder a passagem aos veículos que nela circulam, qualquer que seja a via por onde o façam;\\nb) Se pretender sair da rotunda na primeira via de saída, deve ocupar a via da direita;\\nc) Se pretender sair da rotunda por qualquer das outras vias de saída, só deve ocupar a via de trânsito mais à direita após passar a via de saída imediatamente anterior àquela por onde pretende sair, aproximando-se progressivamente desta e mudando de via depois de tomadas as devidas precauções;\\nd) Sem prejuízo do disposto nas alíneas anteriores, os condutores devem utilizar a via de trânsito mais conveniente ao seu destino.\\n2 - Os condutores de veículos de tração animal ou de animais, de velocípedes e de automóveis pesados, podem ocupar a via de trânsito mais à direita, sem prejuízo do dever de facultar a saída aos condutores que circulem nos termos da alínea c) do n.º 1.\\n3 - Quem infringir o disposto nas alíneas b), c) e d) do n.º 1 e no n.º 2 é sancionado com coima de (euro) 60 a (euro) 300.\"}, {\"article_number\": \"Artigo 15.º\", \"date\": \"1985-09-22\", \"url\": \"https://www.segurancarodoviaria.pt/codigo-da-estrada/titulo-ii-do-transito-de-veiculos-e-animais/capitulo-i-disposic%C3%B5es-comuns/sec%C3%A7%C3%A3o-i-regras-gerais/artigo-15o-transito-em-filas-paralelas/?returnUrl=%2fcodigo-da-estrada%2f%3fshow%3d2109%23a-seccao-2284\", \"article_name\": \"Trânsito em filas paralelas\", \"content\": \"1 - Sempre que, existindo mais de uma via de trânsito no mesmo sentido, os veículos, devido à intensidade da circulação, ocupem toda a largura da faixa de rodagem destinada a esse sentido, estando a velocidade de cada um dependente da marcha dos que o precedem, os condutores não podem sair da respetiva fila para outra mais à direita, salvo para mudar de direção, parar ou estacionar.\\n2 - Quem infringir o disposto no número anterior é sancionado com coima de (euro) 120 a (euro) 600.\"}, {\"article_number\": \"Artigo 16.º\", \"date\": \"1985-09-22\", \"url\": \"https://www.segurancarodoviaria.pt/codigo-da-estrada/titulo-ii-do-transito-de-veiculos-e-animais/capitulo-i-disposic%C3%B5es-comuns/sec%C3%A7%C3%A3o-i-regras-gerais/artigo-16o-placas-postes-ilheus-e-dispositivos-semelhantes/?returnUrl=%2fcodigo-da-estrada%2f%3fshow%3d2110%23a-seccao-2284\", \"article_name\": \"Placas, postes, ilhéus e dispositivos semelhantes\", \"content\": \"1 - Nos cruzamentos, entroncamentos e rotundas o trânsito faz-se por forma a dar a esquerda à parte central dos mesmos ou às placas, postes, ilhéus direcionais ou dispositivos semelhantes existentes, desde que se encontrem no eixo da faixa de rodagem de que procedem os veículos.\\n2 - Quando na faixa de rodagem exista algum dos dispositivos referidos no n.º 1, o trânsito, sem prejuízo do disposto nos artigos 13.º e 14.º, faz-se por forma a dar-lhes a esquerda, salvo se se encontrarem numa via de sentido único ou na parte da faixa de rodagem afeta a um só sentido, casos em que o trânsito se pode fazer pela esquerda ou pela direita, conforme for mais conveniente.\\n3 - Quem infringir o disposto nos números anteriores é sancionado com coima de (euro) 60 a (euro) 300.\"}, {\"article_number\": \"Artigo 17.º\", \"date\": \"1985-09-22\", \"url\": \"https://www.segurancarodoviaria.pt/codigo-da-estrada/titulo-ii-do-transito-de-veiculos-e-animais/capitulo-i-disposic%C3%B5es-comuns/sec%C3%A7%C3%A3o-i-regras-gerais/artigo-17o-bermas-e-passeios/?returnUrl=%2fcodigo-da-estrada%2f%3fshow%3d2111%23a-seccao-2284\", \"article_name\": \"Bermas e passeios\", \"content\": \"1 - Os veículos só podem circular nas bermas ou nos passeios desde que o acesso aos prédios o exija, salvo as exceções previstas em regulamento local.\\n2 - Sem prejuízo do disposto no número anterior, os velocípedes podem circular nas bermas fora das situações previstas, desde que não ponham em perigo ou perturbem os peões que nelas circulem.\\n3 - Os velocípedes conduzidos por crianças até 10 anos podem circular nos passeios, desde que não ponham em perigo ou perturbem os peões.\\n4 - Quem infringir o disposto no n.º 1 é sancionado com coima de (euro) 60 a (euro) 300.\"}, {\"article_number\": \"Artigo 18.º\", \"date\": \"1985-09-22\", \"url\": \"https://www.segurancarodoviaria.pt/codigo-da-estrada/titulo-ii-do-transito-de-veiculos-e-animais/capitulo-i-disposic%C3%B5es-comuns/sec%C3%A7%C3%A3o-i-regras-gerais/artigo-18o-distancia-entre-veiculos/?returnUrl=%2fcodigo-da-estrada%2f%3fshow%3d2112%23a-seccao-2284\", \"article_name\": \"Distância entre veículos\", \"content\": \"1 - O condutor de um veículo em marcha deve manter entre o seu veículo e o que o precede a distância suficiente para evitar acidentes em caso de súbita paragem ou diminuição de velocidade deste, tendo em especial consideração os utilizadores vulneráveis.\\n2 - O condutor de um veículo em marcha deve manter distância lateral suficiente para evitar acidentes entre o seu veículo e os veículos que transitam na mesma faixa de rodagem, no mesmo sentido ou em sentido oposto.\\n3 - O condutor de um veículo motorizado deve manter entre o seu veículo e um velocípede que transite na mesma faixa de rodagem uma distância lateral de pelo menos 1,5 m, para evitar acidentes.\\n4 - Quem infringir o disposto nos números anteriores é sancionado com coima de (euro) 60 a (euro) 300.\"}, {\"article_number\": \"Artigo 19.º\", \"date\": \"1985-09-22\", \"url\": \"https://www.segurancarodoviaria.pt/codigo-da-estrada/titulo-ii-do-transito-de-veiculos-e-animais/capitulo-i-disposic%C3%B5es-comuns/sec%C3%A7%C3%A3o-i-regras-gerais/artigo-19o-visibilidade-reduzida-ou-insuficiente/?returnUrl=%2fcodigo-da-estrada%2f%3fshow%3d2113%23a-seccao-2284\", \"article_name\": \"Visibilidade reduzida ou insuficiente\", \"content\": \"Para os efeitos deste Código e legislação complementar, considera-se que a visibilidade é reduzida ou insuficiente sempre que o condutor não possa avistar a faixa de rodagem em toda a sua largura numa extensão de, pelo menos, 50 m.\"}, {\"article_number\": \"Artigo 20.º\", \"date\": \"1985-09-22\", \"url\": \"https://www.segurancarodoviaria.pt/codigo-da-estrada/titulo-ii-do-transito-de-veiculos-e-animais/capitulo-i-disposic%C3%B5es-comuns/sec%C3%A7%C3%A3o-i-regras-gerais/artigo-20o-veiculos-de-transporte-coletivo-de-passageiros/?returnUrl=%2fcodigo-da-estrada%2f%3fshow%3d2114%23a-seccao-2284\", \"article_name\": \"Veículos de transporte coletivo de passageiros\", \"content\": \"1 - Nas localidades, os condutores devem abrandar a sua marcha e, se necessário, parar, sempre que os veículos de transporte coletivo de passageiros retomem a marcha à saída dos locais de paragem.\\n2 - Os condutores de veículos de transporte coletivo de passageiros não podem, no entanto, retomar a marcha sem assinalarem a sua intenção imediatamente antes de a retomarem e sem adotarem as precauções necessárias para evitar qualquer acidente.\\n3 - Quem infringir o disposto nos números anteriores é sancionado com coima de (euro) 60 a (euro) 300.\"}], \"Código da Estrada - Titulo II - Capítulo II - Secção II \": [{\"article_number\": \"Artigo 21.º\", \"date\": \"1985-09-22\", \"url\": \"https://www.segurancarodoviaria.pt/codigo-da-estrada/titulo-ii-do-transito-de-veiculos-e-animais/capitulo-i-disposic%C3%B5es-comuns/sec%C3%A7%C3%A3o-ii-sinais-dos-condutores/artigo-21o-sinalizacao-de-manobras/?returnUrl=%2fcodigo-da-estrada%2f%3fshow%3d8364%23a-seccao-2295\", \"article_name\": \"Sinalização de manobras\", \"content\": \"1 - Quando o condutor pretender reduzir a velocidade, parar, estacionar, mudar de direção ou de via de trânsito, iniciar uma ultrapassagem ou inverter o sentido de marcha, deve assinalar com a necessária antecedência a sua intenção.\\n2 - O sinal deve manter-se enquanto se efetua a manobra e cessar logo que ela esteja concluída.\\n3 - Quem infringir o disposto nos números anteriores é sancionado com coima de (euro) 60 a (euro) 300.\"}, {\"article_number\": \"Artigo 22.º\", \"date\": \"1985-09-22\", \"url\": \"https://www.segurancarodoviaria.pt/codigo-da-estrada/titulo-ii-do-transito-de-veiculos-e-animais/capitulo-i-disposic%C3%B5es-comuns/sec%C3%A7%C3%A3o-ii-sinais-dos-condutores/artigo-22o-sinais-sonoros/?returnUrl=%2fcodigo-da-estrada%2f%3fshow%3d8365%23a-seccao-2295\", \"article_name\": \"Sinais sonores\", \"content\": \"1 - Os sinais sonoros devem ser breves.\\n2 - Só é permitida a utilização de sinais sonoros:\\na) Em caso de perigo iminente;\\nb) Fora das localidades, para prevenir um condutor da intenção de o ultrapassar e, bem assim, nas curvas, cruzamentos, entroncamentos e lombas de visibilidade reduzida.\\n3 - Excetuam-se do disposto nos números anteriores os sinais de veículos de polícia ou que transitem em prestação de socorro ou de serviço urgente de interesse público.\\n4 - As características dos dispositivos emissores dos sinais sonoros são fixadas em regulamento.\\n5 - Nos veículos de polícia e nos veículos afetos à prestação de socorro ou de serviço urgente de interesse público, bem como nos veículos utilizados na formação específica dos respetivos condutores, podem ser utilizados avisadores sonoros especiais, cujas características e condições de utilização são fixadas em regulamento.\\n6 - Não é permitida em quaisquer outros veículos a instalação ou utilização dos avisadores referidos no número anterior nem a emissão de sinais sonoros que se possam confundir com os emitidos por aqueles dispositivos.\\n7 - Quem infringir o disposto nos n.os 1 e 2 é sancionado com coima de (euro) 60 a (euro) 300.\\n8 - Quem infringir o disposto no n.º 6 é sancionado com coima de (euro) 500 a (euro) 2500 e com perda dos objetos, devendo o agente de fiscalização proceder à sua imediata remoção e apreensão ou, não sendo ela possível, apreender o documento de identificação do veículo até à efetiva remoção e apreensão daqueles objetos, sendo, neste caso, aplicável, com as necessárias adaptações, o disposto no n.º 5 do artigo 161.º.\"}, {\"article_number\": \"Artigo 23.º\", \"date\": \"1985-09-22\", \"url\": \"https://www.segurancarodoviaria.pt/codigo-da-estrada/titulo-ii-do-transito-de-veiculos-e-animais/capitulo-i-disposic%C3%B5es-comuns/sec%C3%A7%C3%A3o-ii-sinais-dos-condutores/artigo-23o-sinais-luminosos/?returnUrl=%2fcodigo-da-estrada%2f%3fshow%3d8366%23a-seccao-2295\", \"article_name\": \"Sinais sonores\", \"content\": \"1 - Quando os veículos transitem fora das localidades com as luzes acesas por insuficiência de visibilidade, os sinais sonoros podem ser substituídos por sinais luminosos, através da utilização alternada dos máximos com os médios, mas sempre sem provocar encandeamento.\\n2 - Dentro das localidades, durante a noite, é obrigatória a substituição dos sinais sonoros pelos sinais luminosos utilizados nas condições previstas no número anterior.\\n3 - Nos veículos de polícia e nos veículos afetos à prestação de socorro ou de serviço urgente de interesse público, bem como nos veículos utilizados na formação específica dos respetivos condutores, podem ser utilizados avisadores luminosos especiais, cujas características e condições de utilização são fixadas em regulamento.\\n4 - Os veículos a motor que, em razão do serviço a que se destinam, devam parar na via pública ou deslocar-se em marcha lenta, incluindo os tratores e máquinas agrícolas ou florestais e as máquinas industriais, devem estar equipados com avisadores luminosos especiais, cujas características e condições de utilização são fixadas em regulamento, devendo os seus condutores deles fazer uso.\\n5 - Não é permitida:\\na) A instalação ou utilização de avisadores luminosos especiais em quaisquer outros veículos para além dos referidos nos números anteriores;\\nb) A utilização dos avisadores luminosos especiais em situações em que não haja necessidade.\\n6 - Quem infringir o disposto nos n.os 2 e 4 e na alínea b) do número anterior é sancionado com coima de (euro) 60 a (euro) 300.\\n7 - Quem infringir o disposto na alínea a) do n.º 5 é sancionado com coima de (euro) 500 a (euro) 2500 e com perda dos objetos, devendo o agente de fiscalização proceder à sua imediata remoção e apreensão ou, não sendo ela possível, apreender o documento de identificação do veículo até à efetiva remoção e apreensão daqueles objetos, sendo, neste caso, aplicável, com as necessárias adaptações, o disposto no n.º 5 do artigo 161.º .\\n8 - O não funcionamento ou funcionamento defeituoso do avisador luminoso especial é equiparado à sua falta.\"}]}\n",
      "\n",
      "[[ ## question ## ]]\n",
      "As bicicletas podem circular na berma da estrada?\n",
      "\t\t(secret hint: És um especialista em legislação rodoviária em Portugal. Aqui tens um dicionário de sinónimos com termos utilizados no Código da Estrada {'buzina': 'avisador', 'acidente': 'sinistro', 'sinal': 'pisca', 'velocípedes': 'bicicletas', 'transito': 'fila', 'veículo de transporte coletivo de passageiros': 'autocarros', 'veículo de transporte coletivo de carga': 'camião'})\n",
      "\n",
      "Respond with the corresponding output fields, starting with the field `[[ ## reasoning ## ]]`, then `[[ ## answer ## ]]` (must be formatted as a valid Python StructuredAnswer), and then ending with the marker for `[[ ## completed ## ]]`.\n",
      "\n",
      "\n",
      "\u001b[31mResponse:\u001b[0m\n",
      "\n",
      "\u001b[32m[[ ## reasoning ## ]]\n",
      "A pergunta feita refere-se à possibilidade de as bicicletas circular na berma da estrada. Para responder a esta pergunta, é necessário consultar o Código da Estrada e procurar por artigos que se refiram à circulação de velocípedes (bicicletas) nas bermas da estrada.\n",
      "\n",
      "[[ ## answer ## ]]\n",
      "{\n",
      "  \"answer\": \"Sim, as bicicletas podem circular nas bermas da estrada, desde que não ponham em perigo ou perturbem os peões que nelas circulem.\",\n",
      "  \"references\": [\n",
      "    {\n",
      "      \"article_title\": \"Bermas e passeios\",\n",
      "      \"date\": \"1985-09-22\",\n",
      "      \"url\": \"https://www.segurancarodoviaria.pt/codigo-da-estrada/titulo-ii-do-transito-de-veiculos-e-animais/capitulo-i-disposic%C3%B5es-comuns/sec%C3%A7%C3%A3o-i-regras-gerais/artigo-17o-bermas-e-passeios/?returnUrl=%2fcodigo-da-estrada%2f%3fshow%3d2111%23a-seccao-2284\"\n",
      "    }\n",
      "  ]\n",
      "}\n",
      "\n",
      "[[ ## completed ## ]]\u001b[0m\n",
      "\n",
      "\n",
      "\n",
      "\n",
      "\n"
     ]
    }
   ],
   "source": [
    "lm.inspect_history(n=2)"
   ]
  },
  {
   "cell_type": "code",
   "execution_count": null,
   "metadata": {
    "id": "Zfdn_uiWXuXd"
   },
   "outputs": [],
   "source": []
  }
 ],
 "metadata": {
  "accelerator": "GPU",
  "colab": {
   "gpuType": "T4",
   "provenance": []
  },
  "kernelspec": {
   "display_name": "Python 3",
   "name": "python3"
  },
  "language_info": {
   "codemirror_mode": {
    "name": "ipython",
    "version": 3
   },
   "file_extension": ".py",
   "mimetype": "text/x-python",
   "name": "python",
   "nbconvert_exporter": "python",
   "pygments_lexer": "ipython3",
   "version": "3.12.6"
  }
 },
 "nbformat": 4,
 "nbformat_minor": 0
}
